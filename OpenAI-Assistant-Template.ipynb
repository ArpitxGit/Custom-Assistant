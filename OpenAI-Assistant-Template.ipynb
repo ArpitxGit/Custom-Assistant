{
  "cells": [
    {
      "cell_type": "markdown",
      "metadata": {
        "id": "M5orGgGyNfaL"
      },
      "source": [
        "# You can use this as a template to quickly create an Assistant using OpenAI's Assistant API"
      ],
      "id": "M5orGgGyNfaL"
    },
    {
      "cell_type": "markdown",
      "metadata": {
        "id": "xKSjxcGnNfaM"
      },
      "source": [
        "### Import Packages"
      ],
      "id": "xKSjxcGnNfaM"
    },
    {
      "cell_type": "code",
      "source": [],
      "metadata": {
        "id": "OS8AK6dpTNR_"
      },
      "id": "OS8AK6dpTNR_",
      "execution_count": null,
      "outputs": []
    },
    {
      "cell_type": "code",
      "source": [
        "!pip install openai"
      ],
      "metadata": {
        "colab": {
          "base_uri": "https://localhost:8080/"
        },
        "id": "SMV8CbeuQHWY",
        "outputId": "50abee43-2fb1-46ca-aa26-d4ec0f77bbf7"
      },
      "id": "SMV8CbeuQHWY",
      "execution_count": null,
      "outputs": [
        {
          "output_type": "stream",
          "name": "stdout",
          "text": [
            "Collecting openai\n",
            "  Downloading openai-1.13.3-py3-none-any.whl (227 kB)\n",
            "\u001b[2K     \u001b[90m━━━━━━━━━━━━━━━━━━━━━━━━━━━━━━━━━━━━━━━━\u001b[0m \u001b[32m227.4/227.4 kB\u001b[0m \u001b[31m2.1 MB/s\u001b[0m eta \u001b[36m0:00:00\u001b[0m\n",
            "\u001b[?25hRequirement already satisfied: anyio<5,>=3.5.0 in /usr/local/lib/python3.10/dist-packages (from openai) (3.7.1)\n",
            "Requirement already satisfied: distro<2,>=1.7.0 in /usr/lib/python3/dist-packages (from openai) (1.7.0)\n",
            "Collecting httpx<1,>=0.23.0 (from openai)\n",
            "  Downloading httpx-0.27.0-py3-none-any.whl (75 kB)\n",
            "\u001b[2K     \u001b[90m━━━━━━━━━━━━━━━━━━━━━━━━━━━━━━━━━━━━━━━━\u001b[0m \u001b[32m75.6/75.6 kB\u001b[0m \u001b[31m8.8 MB/s\u001b[0m eta \u001b[36m0:00:00\u001b[0m\n",
            "\u001b[?25hRequirement already satisfied: pydantic<3,>=1.9.0 in /usr/local/lib/python3.10/dist-packages (from openai) (2.6.3)\n",
            "Requirement already satisfied: sniffio in /usr/local/lib/python3.10/dist-packages (from openai) (1.3.1)\n",
            "Requirement already satisfied: tqdm>4 in /usr/local/lib/python3.10/dist-packages (from openai) (4.66.2)\n",
            "Requirement already satisfied: typing-extensions<5,>=4.7 in /usr/local/lib/python3.10/dist-packages (from openai) (4.10.0)\n",
            "Requirement already satisfied: idna>=2.8 in /usr/local/lib/python3.10/dist-packages (from anyio<5,>=3.5.0->openai) (3.6)\n",
            "Requirement already satisfied: exceptiongroup in /usr/local/lib/python3.10/dist-packages (from anyio<5,>=3.5.0->openai) (1.2.0)\n",
            "Requirement already satisfied: certifi in /usr/local/lib/python3.10/dist-packages (from httpx<1,>=0.23.0->openai) (2024.2.2)\n",
            "Collecting httpcore==1.* (from httpx<1,>=0.23.0->openai)\n",
            "  Downloading httpcore-1.0.4-py3-none-any.whl (77 kB)\n",
            "\u001b[2K     \u001b[90m━━━━━━━━━━━━━━━━━━━━━━━━━━━━━━━━━━━━━━━━\u001b[0m \u001b[32m77.8/77.8 kB\u001b[0m \u001b[31m10.5 MB/s\u001b[0m eta \u001b[36m0:00:00\u001b[0m\n",
            "\u001b[?25hCollecting h11<0.15,>=0.13 (from httpcore==1.*->httpx<1,>=0.23.0->openai)\n",
            "  Downloading h11-0.14.0-py3-none-any.whl (58 kB)\n",
            "\u001b[2K     \u001b[90m━━━━━━━━━━━━━━━━━━━━━━━━━━━━━━━━━━━━━━━━\u001b[0m \u001b[32m58.3/58.3 kB\u001b[0m \u001b[31m7.6 MB/s\u001b[0m eta \u001b[36m0:00:00\u001b[0m\n",
            "\u001b[?25hRequirement already satisfied: annotated-types>=0.4.0 in /usr/local/lib/python3.10/dist-packages (from pydantic<3,>=1.9.0->openai) (0.6.0)\n",
            "Requirement already satisfied: pydantic-core==2.16.3 in /usr/local/lib/python3.10/dist-packages (from pydantic<3,>=1.9.0->openai) (2.16.3)\n",
            "Installing collected packages: h11, httpcore, httpx, openai\n",
            "Successfully installed h11-0.14.0 httpcore-1.0.4 httpx-0.27.0 openai-1.13.3\n"
          ]
        }
      ]
    },
    {
      "cell_type": "code",
      "execution_count": null,
      "id": "b21fdf7e-c27e-493c-b9d2-dbcc6ef61abb",
      "metadata": {
        "id": "b21fdf7e-c27e-493c-b9d2-dbcc6ef61abb"
      },
      "outputs": [],
      "source": [
        "from modules import *\n",
        "from google.colab import userdata\n",
        "from openai import OpenAI\n",
        "OPENAI_KEY = userdata.get('OPENAI_KEY')\n",
        "\n",
        "client = OpenAI(api_key=OPENAI_KEY) # Initialize OpenAI Client"
      ]
    },
    {
      "cell_type": "code",
      "source": [
        "!pip show openai | grep Version"
      ],
      "metadata": {
        "colab": {
          "base_uri": "https://localhost:8080/"
        },
        "id": "VJ0ZoGrbQ04P",
        "outputId": "f11151b6-5334-470a-85db-e1b8aafbe633"
      },
      "id": "VJ0ZoGrbQ04P",
      "execution_count": null,
      "outputs": [
        {
          "output_type": "stream",
          "name": "stdout",
          "text": [
            "Version: 1.13.3\n"
          ]
        }
      ]
    },
    {
      "cell_type": "markdown",
      "metadata": {
        "id": "hQc1PCGUNfaN"
      },
      "source": [
        "### You can start an assistant from scratch or even use an already made assistant on a thread made from scratch\n",
        "\n",
        "-> For Assistants -\n",
        "* Set ```get_premade_assistant = False``` to create a new assistant.\n",
        "* Set ```get_premade_assistant = True``` if you want to use a previous assistant.\n",
        "\n",
        "-> For Threads -\n",
        "* Set ```get_previous_thread = False``` to create a new thread.\n",
        "* Set ```get_previous_thread = True``` if you want to use a previous thread.\n"
      ],
      "id": "hQc1PCGUNfaN"
    },
    {
      "cell_type": "code",
      "execution_count": null,
      "metadata": {
        "id": "GCkLcCN0NfaO"
      },
      "outputs": [],
      "source": [
        "get_premade_assistant = False\n",
        "get_previous_thread = False\n",
        "\n",
        "assistant_id_to_use = \"asst_6waRJUR4EfaVRYWLkqetgSuu\"\n",
        "thread_id_to_use = \"thread_bBkIkcD7yZW3QtrIYt6GMj5e\""
      ],
      "id": "GCkLcCN0NfaO"
    },
    {
      "cell_type": "markdown",
      "metadata": {
        "id": "eRNKpWWGNfaO"
      },
      "source": [
        "### Get Assistant using assistant id"
      ],
      "id": "eRNKpWWGNfaO"
    },
    {
      "cell_type": "code",
      "execution_count": null,
      "metadata": {
        "colab": {
          "base_uri": "https://localhost:8080/"
        },
        "id": "ANkqxiVFNfaO",
        "outputId": "76976555-7219-422d-ce50-279c2f134c6c"
      },
      "outputs": [
        {
          "output_type": "stream",
          "name": "stdout",
          "text": [
            "New Assistant created with ID: asst_hNcvSNYwqVhPDBBCko6lnWw6\n"
          ]
        }
      ],
      "source": [
        "if get_premade_assistant:\n",
        "    assistant = get_assistant(client, assistant_id_to_use) # Retrieve Assistant\n",
        "    print(assistant.name + \" is ready to go!\")\n",
        "else:\n",
        "    name = \"Role Generation\"\n",
        "    description = \"Near8 Narrative Designer\"\n",
        "    instructions = \"You are a narrative designer who designs unique roles based on Club details and User interests\\\n",
        "        Describe their role incorporating the chosen interests without naming them explicitly\\\n",
        "        Do not use the following words in output: 'fantasy, comedy, nature, time travel, cats, horror, true crime, sports, dogs, pop stars, travel, history, romcom, video games, anime, blockchain, asmr, cottagecore'\\\n",
        "        These roles are defined with a name and an attractive description assigned to a user\\\n",
        "        Make sure to create the name as a character name, a first name and a last name that belongs to a fantasy superhero world\\\n",
        "        Create an image for the role, limit it in one line\\\n",
        "        Use a few emojis in output\\\n",
        "        Provide the output in JSON structure like this {'roleName': '<The name of the role>', 'roleDescription': '<The descritpion of the role>',  'imageDes' : '<The image>'}\"\n",
        "    tools = [\n",
        "        {type: \"code_interpreter\"},\n",
        "        {type: \"retrieval\"}\n",
        "    ]\n",
        "    assistant = create_assistant(client, name, description, instructions) # Create Assistant\n",
        "    print(\"New Assistant created with ID: \" + assistant.id)"
      ],
      "id": "ANkqxiVFNfaO"
    },
    {
      "cell_type": "markdown",
      "metadata": {
        "id": "Zj3keb9pNfaO"
      },
      "source": [
        "### Retrieve the previous conversation"
      ],
      "id": "Zj3keb9pNfaO"
    },
    {
      "cell_type": "code",
      "execution_count": null,
      "metadata": {
        "colab": {
          "base_uri": "https://localhost:8080/"
        },
        "id": "jOr-eR9dNfaO",
        "outputId": "cde6ee0e-74a2-41f1-86e4-ba66f96d57d4"
      },
      "outputs": [
        {
          "output_type": "stream",
          "name": "stdout",
          "text": [
            "New chat created with ID: thread_dBYpuxy87JS4nQj6HTx8oP8C\n"
          ]
        }
      ],
      "source": [
        "# Retrieve the previous conversation thread\n",
        "\n",
        "if get_previous_thread:\n",
        "    thread = get_chat(client, thread_id_to_use)\n",
        "    print(\"Chat retrieved with ID: \" + thread.id)\n",
        "    print(thread)\n",
        "else:\n",
        "    thread = start_new_chat(client)\n",
        "    print(\"New chat created with ID: \" + thread.id)"
      ],
      "id": "jOr-eR9dNfaO"
    },
    {
      "cell_type": "markdown",
      "metadata": {
        "id": "QebYsP0jNfaP"
      },
      "source": [
        "### Add new message into thread"
      ],
      "id": "QebYsP0jNfaP"
    },
    {
      "cell_type": "code",
      "execution_count": null,
      "metadata": {
        "id": "w-2g4vZhNfaP"
      },
      "outputs": [],
      "source": [
        "# Message to send to the assistant\n",
        "\n",
        "content = '\"Club Name: Vampires Of Brooklyn , User Interests : Yoga, Cycling, Tech , AI\"'"
      ],
      "id": "w-2g4vZhNfaP"
    },
    {
      "cell_type": "code",
      "execution_count": null,
      "metadata": {
        "colab": {
          "base_uri": "https://localhost:8080/"
        },
        "id": "kJW5z8uSNfaP",
        "outputId": "15adb3b4-fe84-4f8c-a033-7d948445cdad"
      },
      "outputs": [
        {
          "output_type": "stream",
          "name": "stdout",
          "text": [
            "ThreadMessage(id='msg_XE0XsZJH0sSjQXo2Ku5dTwUv', assistant_id=None, content=[MessageContentText(text=Text(annotations=[], value='\"Club Name: Vampires Of Brooklyn , User Interests : Yoga, Cycling, Tech , AI\"'), type='text')], created_at=1709938545, file_ids=[], metadata={}, object='thread.message', role='user', run_id=None, thread_id='thread_dBYpuxy87JS4nQj6HTx8oP8C')\n"
          ]
        }
      ],
      "source": [
        "# Add the message into the thread\n",
        "\n",
        "new_message = add_message(client, thread, content)\n",
        "print(new_message)"
      ],
      "id": "kJW5z8uSNfaP"
    },
    {
      "cell_type": "markdown",
      "metadata": {
        "id": "J_0N9KECNfaP"
      },
      "source": [
        "### Run the thread with the new message"
      ],
      "id": "J_0N9KECNfaP"
    },
    {
      "cell_type": "code",
      "execution_count": null,
      "metadata": {
        "colab": {
          "base_uri": "https://localhost:8080/"
        },
        "id": "_OAeO19LNfaP",
        "outputId": "ae0f027e-1408-4e1e-fc4f-e9bb3cf7276a"
      },
      "outputs": [
        {
          "output_type": "execute_result",
          "data": {
            "text/plain": [
              "Run(id='run_fTggnk3CAKcGCRrJVuqUPZAa', assistant_id='asst_hNcvSNYwqVhPDBBCko6lnWw6', cancelled_at=None, completed_at=None, created_at=1709938555, expires_at=1709939155, failed_at=None, file_ids=[], instructions=\"You are a narrative designer who designs unique roles based on Club details and User interests\\xa0\\xa0\\xa0\\xa0\\xa0\\xa0\\xa0 Describe their role incorporating the chosen interests without naming them explicitly\\xa0\\xa0\\xa0\\xa0\\xa0\\xa0\\xa0 Do not use the following words in output: 'fantasy, comedy, nature, time travel, cats, horror, true crime, sports, dogs, pop stars, travel, history, romcom, video games, anime, blockchain, asmr, cottagecore'\\xa0\\xa0\\xa0\\xa0\\xa0\\xa0\\xa0 These roles are defined with a name and an attractive description assigned to a user\\xa0\\xa0\\xa0\\xa0\\xa0\\xa0\\xa0 Make sure to create the name as a character name, a first name and a last name that belongs to a fantasy superhero world\\xa0\\xa0\\xa0\\xa0\\xa0\\xa0\\xa0 Create an image for the role, limit it in one line\\xa0\\xa0\\xa0\\xa0\\xa0\\xa0\\xa0 Use a few emojis in output\\xa0\\xa0\\xa0\\xa0\\xa0\\xa0\\xa0 Provide the output in JSON structure like this {'roleName': '<The name of the role>', 'roleDescription': '<The descritpion of the role>',\\xa0 'imageDes' : '<The image>'}\", last_error=None, metadata={}, model='gpt-3.5-turbo-1106', object='thread.run', required_action=None, started_at=None, status='queued', thread_id='thread_dBYpuxy87JS4nQj6HTx8oP8C', tools=[], usage=None)"
            ]
          },
          "metadata": {},
          "execution_count": 16
        }
      ],
      "source": [
        "# Run the thread with the assistant with the new message\n",
        "\n",
        "run_chat(client, thread, assistant)"
      ],
      "id": "_OAeO19LNfaP"
    },
    {
      "cell_type": "markdown",
      "metadata": {
        "id": "1RK84d_oNfaP"
      },
      "source": [
        "# Run the below code everytime you need to see the new chats"
      ],
      "id": "1RK84d_oNfaP"
    },
    {
      "cell_type": "code",
      "execution_count": null,
      "metadata": {
        "colab": {
          "base_uri": "https://localhost:8080/"
        },
        "id": "dvyT5DYGNfaP",
        "outputId": "33a9858d-8b52-4716-fd57-2cf23943f2d5"
      },
      "outputs": [
        {
          "output_type": "stream",
          "name": "stdout",
          "text": [
            "USER: \"Club Name: Vampires Of Brooklyn , User Interests : Yoga, Cycling, Tech , AI\"\n",
            "ASSISTANT: {\n",
            "\t\"roleName\": \"Aria Sunshadow\",\n",
            "\t\"roleDescription\": \"Aria Sunshadow is a brilliant tech engineer by day and a graceful yoga instructor by night. She is also a skilled cyclist who traverses the city streets like a shadow, using her expertise in AI to ensure the safety of her fellow cyclists. Aria protects the community not with fangs, but with her intellect and agile movements.\",\n",
            "\t\"imageDes\" : \"Aria Sunshadow: A tech-savvy yoga instructor and cyclist.\"\n",
            "}\n"
          ]
        }
      ],
      "source": [
        "# Retrieve the chat history\n",
        "\n",
        "history = get_messages_in_chat(client, thread)\n",
        "messages = history.data[::-1]\n",
        "for i in messages:\n",
        "    print(i.role.upper() + \": \"+ i.content[0].text.value)"
      ],
      "id": "dvyT5DYGNfaP"
    },
    {
      "cell_type": "code",
      "source": [],
      "metadata": {
        "id": "TvICoIg0wfoT"
      },
      "id": "TvICoIg0wfoT",
      "execution_count": null,
      "outputs": []
    },
    {
      "cell_type": "markdown",
      "source": [
        "# Multi Assistant Runs"
      ],
      "metadata": {
        "id": "9REIXS8Dwg2Q"
      },
      "id": "9REIXS8Dwg2Q"
    },
    {
      "cell_type": "code",
      "source": [
        "import json\n",
        "\n",
        "def show_json(obj):\n",
        "    display(json.loads(obj.model_dump_json()))"
      ],
      "metadata": {
        "id": "cXbOdlcVkORT"
      },
      "id": "cXbOdlcVkORT",
      "execution_count": null,
      "outputs": []
    },
    {
      "cell_type": "code",
      "source": [
        "def threadMessageLog(thread):\n",
        "  global role_name\n",
        "  # Show the final results\n",
        "\n",
        "\n",
        "  messages = client.beta.threads.messages.list(\n",
        "    thread_id=thread.id\n",
        "  )\n",
        "\n",
        "  # Save the text of the messages so that they can be printed in reverse order\n",
        "  messageStore = []\n",
        "\n",
        "  for message in messages:\n",
        "\n",
        "      if message.assistant_id == assistantRoleGeneration.id:\n",
        "          assistantName = \"Role: \"\n",
        "\n",
        "          # prompt: set a var role_name that extracts the value from a json that may have the attribute roleName. Check that the string is json and that the attribute exists before setting the var\n",
        "          try:\n",
        "              parsed_json = json.loads(message.content[0].text.value)\n",
        "              if \"roleName\" in parsed_json:\n",
        "                  role_name = parsed_json[\"roleName\"]\n",
        "                  print(f\"Role name extracted: {role_name}\")\n",
        "              else:\n",
        "                  print(\"JSON does not contain 'roleName' attribute\")\n",
        "          except ValueError as e:\n",
        "              print(f\"Invalid JSON: {e}\")\n",
        "\n",
        "\n",
        "      elif message.assistant_id == assistantPostGeneration.id:\n",
        "          assistantName = \"Post: \"\n",
        "\n",
        "      messageStore.append(assistantName+message.content[0].text.value)\n",
        "\n",
        "  #To make it more readable print the messages in reversed order\n",
        "\n",
        "  for message in reversed(messageStore):\n",
        "      print(message)"
      ],
      "metadata": {
        "id": "4RedXIHQ4gLN"
      },
      "id": "4RedXIHQ4gLN",
      "execution_count": null,
      "outputs": []
    },
    {
      "cell_type": "code",
      "source": [
        "import time\n",
        "name = \"Role Generation\"\n",
        "description = \"Near8 Role Designer\"\n",
        "instructions = \"You are a narrative designer who designs unique roles based on Club details and User interests\\\n",
        "        Describe their role incorporating the chosen interests without naming them explicitly\\\n",
        "        Do not use the following words in output: 'fantasy, comedy, nature, time travel, cats, horror, true crime, sports, dogs, pop stars, travel, history, romcom, video games, anime, blockchain, asmr, cottagecore'\\\n",
        "        These roles are defined with a name and an attractive description assigned to a user\\\n",
        "        Make sure to create the name as a character name, a first name and a last name that belongs to a fantasy superhero world\\\n",
        "        Create an image for the role, limit it in one line\\\n",
        "        Use a few emojis in output\\\n",
        "        Provide the output in JSON structure like this {'roleName': '<The name of the role>', 'roleDescription': '<The descritpion of the role>',  'imageDes' : '<The image>'}\"\n",
        "tools = [\n",
        "        {type: \"code_interpreter\"},\n",
        "        {type: \"retrieval\"}\n",
        "    ]\n",
        "assistantRoleGeneration = create_assistant(client,name,description,instructions)\n",
        "print(\"Role Generation Assistant created with ID: \" + assistantRoleGeneration.id)\n",
        "\n"
      ],
      "metadata": {
        "colab": {
          "base_uri": "https://localhost:8080/"
        },
        "id": "yvatuu25TP1A",
        "outputId": "5488297d-a27b-4db4-ee02-9e4d33de9989"
      },
      "id": "yvatuu25TP1A",
      "execution_count": null,
      "outputs": [
        {
          "output_type": "stream",
          "name": "stdout",
          "text": [
            "Role Generation Assistant created with ID: asst_X4C2DE7QfoIJSEWMwOkueHU9\n"
          ]
        }
      ]
    },
    {
      "cell_type": "code",
      "source": [
        "name = \"Post Generation\"\n",
        "description = \"Near8 Post Designer\"\n",
        "instructions = \"You are a narrative designer who designs post and a fortune cookie message using user input\\\n",
        "    Users input is title/description/scene, ,place,Role name,Club name\\\n",
        "  Make sure the caption is short, tweet-sized one-sentence plot points to flesh out an existing storyline\\\n",
        "  Make sure that fortune cookie message in the format of social post like instagram with a limit of 60 words\\\n",
        "  Assign a catchy name to this post\\\n",
        "  Provide the output in JSON structure like this {'1': '<name>', '2': '<caption>', '3': '<social-post>'}\"\n",
        "tools = [\n",
        "        {type: \"code_interpreter\"},\n",
        "        {type: \"retrieval\"}\n",
        "    ]\n",
        "assistantPostGeneration = create_assistant(client,name,description,instructions)\n",
        "print(\"Post Generation Assistant created with ID: \" + assistantPostGeneration.id)\n",
        "\n"
      ],
      "metadata": {
        "colab": {
          "base_uri": "https://localhost:8080/"
        },
        "id": "DVTRofbEXdgn",
        "outputId": "728c0add-8346-47a5-eee0-3fd41f739528"
      },
      "id": "DVTRofbEXdgn",
      "execution_count": null,
      "outputs": [
        {
          "output_type": "stream",
          "name": "stdout",
          "text": [
            "Post Generation Assistant created with ID: asst_WATC9kbLQIBcwlNHI3B0G6TB\n"
          ]
        }
      ]
    },
    {
      "cell_type": "code",
      "source": [
        "def wait_on_run(run, thread):\n",
        "    while run.status == \"queued\" or run.status == \"in_progress\":\n",
        "        run = client.beta.threads.runs.retrieve(\n",
        "            thread_id=thread.id,\n",
        "            run_id=run.id,\n",
        "        )\n",
        "        time.sleep(0.5)\n",
        "    return run"
      ],
      "metadata": {
        "id": "BCxZeiuvkVFI"
      },
      "id": "BCxZeiuvkVFI",
      "execution_count": null,
      "outputs": []
    },
    {
      "cell_type": "code",
      "source": [
        "\n",
        "def runAssistant(assistant_id,thread_id):\n",
        "    run = client.beta.threads.runs.create(\n",
        "        thread_id=thread_id,\n",
        "        assistant_id=assistant_id\n",
        "    )\n",
        "    print(f'Run Assistant Created {run.id}')\n",
        "    return run\n"
      ],
      "metadata": {
        "id": "Uj2ARxVtUZkG"
      },
      "id": "Uj2ARxVtUZkG",
      "execution_count": null,
      "outputs": []
    },
    {
      "cell_type": "code",
      "source": [
        "# create new thread per new user input\n",
        "\n",
        "threadDuo = client.beta.threads.create()\n",
        "show_json(threadDuo)\n",
        "\n",
        "# prompt: ask the user to input Club Name, and User Interests. Then, save it into a var content like such content = '\"Club Name: DJs Of Brooklyn , User Interests : Rowing, Surfing, Tech , AI\"'\n",
        "\n",
        "club_name = input(\"Enter Club Name: \")\n",
        "user_interests = input(\"Enter User Interests: \")\n",
        "content = '\"Club Name: {}, User Interests : {}\"'.format(club_name, user_interests)\n"
      ],
      "metadata": {
        "colab": {
          "base_uri": "https://localhost:8080/",
          "height": 121
        },
        "id": "NCNAef5P7NpE",
        "outputId": "b4fb078a-e076-45af-8701-e462602535b7"
      },
      "id": "NCNAef5P7NpE",
      "execution_count": null,
      "outputs": [
        {
          "output_type": "display_data",
          "data": {
            "text/plain": [
              "{'id': 'thread_V4y7mbBK5sGEwcEX3ERnXQie',\n",
              " 'created_at': 1709952785,\n",
              " 'metadata': {},\n",
              " 'object': 'thread'}"
            ]
          },
          "metadata": {}
        },
        {
          "name": "stdout",
          "output_type": "stream",
          "text": [
            "Enter Club Name: CookieMonster\n",
            "Enter User Interests: Maltese puppies, belly rubs, walks\n"
          ]
        }
      ]
    },
    {
      "cell_type": "code",
      "source": [
        "print(content)\n",
        "message = client.beta.threads.messages.create(\n",
        "    thread_id=threadDuo.id,\n",
        "    role=\"user\",\n",
        "    content=content,\n",
        ")\n",
        "\n",
        "show_json(message)"
      ],
      "metadata": {
        "colab": {
          "base_uri": "https://localhost:8080/",
          "height": 243
        },
        "id": "Y_C85cY4UVLX",
        "outputId": "9a877b1e-b0c1-46d0-917b-d9894bd3c145"
      },
      "id": "Y_C85cY4UVLX",
      "execution_count": null,
      "outputs": [
        {
          "output_type": "stream",
          "name": "stdout",
          "text": [
            "\"Club Name: CookieMonster, User Interests : Maltese puppies, belly rubs, walks\"\n"
          ]
        },
        {
          "output_type": "display_data",
          "data": {
            "text/plain": [
              "{'id': 'msg_28giT3KFB5k0mXWm3AIC69v9',\n",
              " 'assistant_id': None,\n",
              " 'content': [{'text': {'annotations': [],\n",
              "    'value': '\"Club Name: CookieMonster, User Interests : Maltese puppies, belly rubs, walks\"'},\n",
              "   'type': 'text'}],\n",
              " 'created_at': 1709952824,\n",
              " 'file_ids': [],\n",
              " 'metadata': {},\n",
              " 'object': 'thread.message',\n",
              " 'role': 'user',\n",
              " 'run_id': None,\n",
              " 'thread_id': 'thread_V4y7mbBK5sGEwcEX3ERnXQie'}"
            ]
          },
          "metadata": {}
        }
      ]
    },
    {
      "cell_type": "code",
      "source": [
        "# Run the Role Assistant to create a first draft\n",
        "run = runAssistant(assistantRoleGeneration.id,threadDuo.id)\n"
      ],
      "metadata": {
        "colab": {
          "base_uri": "https://localhost:8080/"
        },
        "id": "jiUTYi_yUcIa",
        "outputId": "0f85cef2-7123-44f6-f3f2-f07ee05e7c5f"
      },
      "id": "jiUTYi_yUcIa",
      "execution_count": null,
      "outputs": [
        {
          "output_type": "stream",
          "name": "stdout",
          "text": [
            "Run Assistant Created run_h3SquW6xy5Ni25XWzNiID2T9\n"
          ]
        }
      ]
    },
    {
      "cell_type": "code",
      "source": [
        "run = wait_on_run(run, threadDuo)"
      ],
      "metadata": {
        "id": "G8cZQyWPqDFe"
      },
      "id": "G8cZQyWPqDFe",
      "execution_count": null,
      "outputs": []
    },
    {
      "cell_type": "code",
      "source": [
        "threadMessageLog(threadDuo)"
      ],
      "metadata": {
        "colab": {
          "base_uri": "https://localhost:8080/"
        },
        "id": "VsKGdfWA8pOY",
        "outputId": "a850cb2c-bbcf-4869-f4e5-970d3a4e88b8"
      },
      "id": "VsKGdfWA8pOY",
      "execution_count": null,
      "outputs": [
        {
          "output_type": "stream",
          "name": "stdout",
          "text": [
            "Role name extracted: Luna Silverpaws\n",
            "Role: \"Club Name: CookieMonster, User Interests : Maltese puppies, belly rubs, walks\"\n",
            "Role: {\n",
            "  \"roleName\": \"Luna Silverpaws\",\n",
            "  \"roleDescription\": \"As Luna Silverpaws, you are a playful and nurturing companion to all. Your keen senses and gentle nature make you the ultimate caretaker of adorable creatures. Known for your love of Maltese puppies, belly rubs, and walks, you bring joy and comfort to those around you.\",\n",
            "  \"imageDes\" : \"A compassionate figure with a fluffy companion by her side, radiating warmth and affection. 🐾\"\n",
            "}\n"
          ]
        }
      ]
    },
    {
      "cell_type": "code",
      "source": [
        "show_json(run)"
      ],
      "metadata": {
        "colab": {
          "base_uri": "https://localhost:8080/",
          "height": 572
        },
        "id": "Ee5ZR4wU-ShC",
        "outputId": "b97d0be3-7914-495d-9d92-11a0aaa2a987"
      },
      "id": "Ee5ZR4wU-ShC",
      "execution_count": null,
      "outputs": [
        {
          "output_type": "display_data",
          "data": {
            "text/plain": [
              "{'id': 'run_h3SquW6xy5Ni25XWzNiID2T9',\n",
              " 'assistant_id': 'asst_X4C2DE7QfoIJSEWMwOkueHU9',\n",
              " 'cancelled_at': None,\n",
              " 'completed_at': 1709952833,\n",
              " 'created_at': 1709952831,\n",
              " 'expires_at': None,\n",
              " 'failed_at': None,\n",
              " 'file_ids': [],\n",
              " 'instructions': \"You are a narrative designer who designs unique roles based on Club details and User interests\\xa0\\xa0\\xa0\\xa0\\xa0\\xa0\\xa0 Describe their role incorporating the chosen interests without naming them explicitly\\xa0\\xa0\\xa0\\xa0\\xa0\\xa0\\xa0 Do not use the following words in output: 'fantasy, comedy, nature, time travel, cats, horror, true crime, sports, dogs, pop stars, travel, history, romcom, video games, anime, blockchain, asmr, cottagecore'\\xa0\\xa0\\xa0\\xa0\\xa0\\xa0\\xa0 These roles are defined with a name and an attractive description assigned to a user\\xa0\\xa0\\xa0\\xa0\\xa0\\xa0\\xa0 Make sure to create the name as a character name, a first name and a last name that belongs to a fantasy superhero world\\xa0\\xa0\\xa0\\xa0\\xa0\\xa0\\xa0 Create an image for the role, limit it in one line\\xa0\\xa0\\xa0\\xa0\\xa0\\xa0\\xa0 Use a few emojis in output\\xa0\\xa0\\xa0\\xa0\\xa0\\xa0\\xa0 Provide the output in JSON structure like this {'roleName': '<The name of the role>', 'roleDescription': '<The descritpion of the role>',\\xa0 'imageDes' : '<The image>'}\",\n",
              " 'last_error': None,\n",
              " 'metadata': {},\n",
              " 'model': 'gpt-3.5-turbo-1106',\n",
              " 'object': 'thread.run',\n",
              " 'required_action': None,\n",
              " 'started_at': 1709952831,\n",
              " 'status': 'completed',\n",
              " 'thread_id': 'thread_V4y7mbBK5sGEwcEX3ERnXQie',\n",
              " 'tools': [],\n",
              " 'usage': {'completion_tokens': 109,\n",
              "  'prompt_tokens': 222,\n",
              "  'total_tokens': 331}}"
            ]
          },
          "metadata": {}
        }
      ]
    },
    {
      "cell_type": "code",
      "source": [
        "# prompt: ask the user to input a time hook description, a place.\n",
        "\n",
        "time_hook = input(\"Enter a time hook description: \")\n",
        "place = input(\"Enter a place: \")\n",
        "\n"
      ],
      "metadata": {
        "colab": {
          "base_uri": "https://localhost:8080/"
        },
        "id": "jcF5-ziK-haP",
        "outputId": "297c0b4e-fbb2-43d1-8ee4-a2974499b52f"
      },
      "id": "jcF5-ziK-haP",
      "execution_count": null,
      "outputs": [
        {
          "name": "stdout",
          "output_type": "stream",
          "text": [
            "Enter a time hook description: Walking around\n",
            "Enter a place: South park slope\n"
          ]
        }
      ]
    },
    {
      "cell_type": "code",
      "source": [
        "# prompt: set var postContent with time hook, place, roleName, and clubName e.g. \"python day, online ,Sufer Moonlight, DJs of Brooklyn\"\n",
        "\n",
        "postContent = \"{}, {}, {}, {}\".format(time_hook, place, role_name, club_name)\n",
        "print(postContent)\n",
        "\n"
      ],
      "metadata": {
        "colab": {
          "base_uri": "https://localhost:8080/"
        },
        "id": "cjqaQg2kBl2s",
        "outputId": "32eea1c5-d586-4a74-f9a1-23b9cbba5af4"
      },
      "id": "cjqaQg2kBl2s",
      "execution_count": null,
      "outputs": [
        {
          "output_type": "stream",
          "name": "stdout",
          "text": [
            "Walking around, South park slope, Luna Silverpaws, CookieMonster\n"
          ]
        }
      ]
    },
    {
      "cell_type": "code",
      "source": [
        "message = client.beta.threads.messages.create(\n",
        "    thread_id=threadDuo.id,\n",
        "    role=\"user\",\n",
        "    content=postContent,\n",
        ")\n",
        "\n",
        "show_json(message)"
      ],
      "metadata": {
        "colab": {
          "base_uri": "https://localhost:8080/",
          "height": 225
        },
        "id": "B0G4jMumBjAH",
        "outputId": "e122c1da-6af6-4d56-9159-7a31d8e797ae"
      },
      "id": "B0G4jMumBjAH",
      "execution_count": null,
      "outputs": [
        {
          "output_type": "display_data",
          "data": {
            "text/plain": [
              "{'id': 'msg_rb3ocqnFTZgXaJF736SIpj3k',\n",
              " 'assistant_id': None,\n",
              " 'content': [{'text': {'annotations': [],\n",
              "    'value': 'Walking around, South park slope, Luna Silverpaws, CookieMonster'},\n",
              "   'type': 'text'}],\n",
              " 'created_at': 1709953429,\n",
              " 'file_ids': [],\n",
              " 'metadata': {},\n",
              " 'object': 'thread.message',\n",
              " 'role': 'user',\n",
              " 'run_id': None,\n",
              " 'thread_id': 'thread_V4y7mbBK5sGEwcEX3ERnXQie'}"
            ]
          },
          "metadata": {}
        }
      ]
    },
    {
      "cell_type": "code",
      "source": [
        "# Run the Post Assistant\n",
        "run = runAssistant(assistantPostGeneration.id,threadDuo.id)\n"
      ],
      "metadata": {
        "colab": {
          "base_uri": "https://localhost:8080/"
        },
        "id": "YgYC1h8CUvX_",
        "outputId": "2605f659-50ec-4ba8-c4e3-83b396630b25"
      },
      "id": "YgYC1h8CUvX_",
      "execution_count": null,
      "outputs": [
        {
          "output_type": "stream",
          "name": "stdout",
          "text": [
            "Run Assistant Created run_aNsh7kRXTQjXRVLbQ5raBIdN\n"
          ]
        }
      ]
    },
    {
      "cell_type": "code",
      "source": [
        "run = wait_on_run(run, threadDuo)"
      ],
      "metadata": {
        "id": "TmQ_EV9dsJ8c"
      },
      "id": "TmQ_EV9dsJ8c",
      "execution_count": null,
      "outputs": []
    },
    {
      "cell_type": "code",
      "source": [
        "\n",
        "# Show the final results\n",
        "\n",
        "messages = client.beta.threads.messages.list(\n",
        "  thread_id=threadDuo.id\n",
        ")\n",
        "\n",
        "\n",
        "# Save the text of the messages so that they can be printed in reverse order\n",
        "messageStore = []\n",
        "\n",
        "for message in messages:\n",
        "\n",
        "    if message.assistant_id == assistantRoleGeneration.id:\n",
        "        assistantName = \"Role: \"\n",
        "    elif message.assistant_id == assistantPostGeneration.id:\n",
        "        assistantName = \"Post: \"\n",
        "\n",
        "    messageStore.append(assistantName+message.content[0].text.value)\n",
        "\n",
        "#To make it more readable print the messages in reversed order\n",
        "\n",
        "for message in reversed(messageStore):\n",
        "    print(message)"
      ],
      "metadata": {
        "colab": {
          "base_uri": "https://localhost:8080/"
        },
        "id": "DAB-JLJuwNKn",
        "outputId": "3669570f-c640-4b66-aebc-b31610f4d044"
      },
      "id": "DAB-JLJuwNKn",
      "execution_count": null,
      "outputs": [
        {
          "output_type": "stream",
          "name": "stdout",
          "text": [
            "Role: \"Club Name: CookieMonster, User Interests : Maltese puppies, belly rubs, walks\"\n",
            "Role: {\n",
            "  \"roleName\": \"Luna Silverpaws\",\n",
            "  \"roleDescription\": \"As Luna Silverpaws, you are a playful and nurturing companion to all. Your keen senses and gentle nature make you the ultimate caretaker of adorable creatures. Known for your love of Maltese puppies, belly rubs, and walks, you bring joy and comfort to those around you.\",\n",
            "  \"imageDes\" : \"A compassionate figure with a fluffy companion by her side, radiating warmth and affection. 🐾\"\n",
            "}\n",
            "Post: Walking around, South park slope, Luna Silverpaws, CookieMonster\n",
            "Post: {\n",
            "  \"1\": \"Paws and Cookies\",\n",
            "  \"2\": \"Luna Silverpaws takes a stroll through South Park Slope with the CookieMonster club, spreading joy and warmth wherever she goes.\",\n",
            "  \"3\": \"🐾 Spreading pawsitivity and cookies in South Park Slope with the CookieMonster club! 🍪 #LunaSilverpaws #CookieMonster #SpreadJoy #SouthParkSlope\"\n",
            "}\n"
          ]
        }
      ]
    }
  ],
  "metadata": {
    "kernelspec": {
      "display_name": "Python 3 (ipykernel)",
      "language": "python",
      "name": "python3"
    },
    "language_info": {
      "codemirror_mode": {
        "name": "ipython",
        "version": 3
      },
      "file_extension": ".py",
      "mimetype": "text/x-python",
      "name": "python",
      "nbconvert_exporter": "python",
      "pygments_lexer": "ipython3",
      "version": "3.11.4"
    },
    "colab": {
      "provenance": [],
      "history_visible": true
    }
  },
  "nbformat": 4,
  "nbformat_minor": 5
}